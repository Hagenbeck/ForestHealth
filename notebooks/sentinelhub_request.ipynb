{
 "cells": [
  {
   "cell_type": "code",
   "execution_count": null,
   "id": "90f0b698",
   "metadata": {},
   "outputs": [],
   "source": [
    "import sys\n",
    "sys.path.append(\"./notebooks\")\n",
    "sys.path.append(\"./src\")"
   ]
  },
  {
   "cell_type": "code",
   "execution_count": null,
   "id": "361f52a0",
   "metadata": {},
   "outputs": [],
   "source": [
    "import os\n",
    "import json\n",
    "import requests\n",
    "import geojson\n",
    "import io\n",
    "import math\n",
    "\n",
    "import numpy as np\n",
    "import matplotlib.pyplot as plt\n",
    "import sentinelhub as seh\n",
    "\n",
    "from datetime import datetime, timedelta, timezone\n",
    "from shapely.geometry import shape\n",
    "from shapely.ops import transform\n",
    "from pyproj import Transformer\n",
    "from dotenv import load_dotenv\n",
    "from pathlib import Path\n",
    "from oauthlib.oauth2 import BackendApplicationClient\n",
    "from requests_oauthlib import OAuth2Session\n",
    "from PIL import Image\n",
    "from ipyleaflet import GeoJSON, Map, basemaps\n",
    "from rasterio.io import MemoryFile\n",
    "\n",
    "from utils.paths import get_data_path\n",
    "\n",
    "from utils.sentinelhub_api import build_json_request"
   ]
  },
  {
   "cell_type": "code",
   "execution_count": null,
   "id": "edcf6166",
   "metadata": {},
   "outputs": [],
   "source": [
    "start_date = \"2020-06-01\"\n",
    "end_date = \"2020-08-31\"\n",
    "collection_id = \"sentinel-2-l2a\"\n",
    "\n",
    "geojson_path = get_data_path(\"blackForestPoly.geojson\")#\"blackForestPoly.geojson\"\n",
    "\n",
    "load_dotenv()\n",
    "client_id = os.getenv('SENTINELHUB_CLIENT_ID')\n",
    "client_secret = os.getenv('SENTINELHUB_CLIENT_SECRET')\n",
    "token_url = os.getenv(\"SENTINELHUB_TOKEN_URL\", \"https://identity.dataspace.copernicus.eu/auth/realms/CDSE/protocol/openid-connect/token\")"
   ]
  },
  {
   "cell_type": "code",
   "execution_count": null,
   "id": "632a09b3",
   "metadata": {},
   "outputs": [],
   "source": [
    "#get geometry from file\n",
    "with open(geojson_path) as f:\n",
    "    geo_file = geojson.load(f)\n",
    "    \n",
    "geometry = geo_file['features'][0]['geometry']"
   ]
  },
  {
   "cell_type": "code",
   "execution_count": null,
   "id": "1bb969bc",
   "metadata": {},
   "outputs": [],
   "source": [
    "#get bbox to resize request plot\n",
    "geom = shape(geometry)\n",
    "project = Transformer.from_crs(\"EPSG:4326\", \"EPSG:3857\", always_xy=True).transform\n",
    "geom_m = transform(project, geom)\n",
    "\n",
    "# Get size in meters\n",
    "minx, miny, maxx, maxy = geom_m.bounds\n",
    "width_m = maxx - minx\n",
    "height_m = maxy - miny\n",
    "\n",
    "# Initial pixel dimensions at target resolution\n",
    "width_px = width_m / 20\n",
    "height_px = height_m / 20\n",
    "\n",
    "# Scale down if larger than max_dim\n",
    "scale = max(width_px / 2500, height_px / 2500, 1)\n",
    "width_px = int(math.ceil(width_px / scale))\n",
    "height_px = int(math.ceil(height_px / scale))"
   ]
  },
  {
   "cell_type": "code",
   "execution_count": null,
   "id": "12f7bec4",
   "metadata": {},
   "outputs": [],
   "source": [
    "import rasterio\n",
    "from rasterio.transform import from_origin\n",
    "from rasterio.windows import Window\n",
    "from rasterio.windows import bounds\n",
    "\n",
    "# Example grid: 1000x1000 pixels, 20 m resolution\n",
    "_, _, height, width = res.shape\n",
    "xmin, ymin, xmax, ymax = minx, miny, maxx, maxy\n",
    "pixel_size = 20\n",
    "\n",
    "# Build transform (top-left origin)\n",
    "transform = from_origin(xmin, ymax, pixel_size, pixel_size)\n",
    "\n",
    "# Example: slice indices (row_start:row_stop, col_start:col_stop)\n",
    "row_start, row_stop = 4400, 5000\n",
    "col_start, col_stop = 2250, 3350\n",
    "\n",
    "# Create a rasterio Window for that slice\n",
    "window = Window.from_slices((row_start, row_stop), (col_start, col_stop))\n",
    "\n",
    "# Get bbox in map coordinates\n",
    "bbox = bounds(window, transform=transform)\n",
    "print(bbox)"
   ]
  },
  {
   "cell_type": "code",
   "execution_count": null,
   "id": "60e78b32",
   "metadata": {},
   "outputs": [],
   "source": [
    "client = BackendApplicationClient(client_id=client_id)\n",
    "oauth = OAuth2Session(client=client)\n",
    "\n",
    "token = oauth.fetch_token(\n",
    "    token_url=token_url,\n",
    "    client_secret=client_secret,\n",
    "    include_client_id=True\n",
    ")"
   ]
  },
  {
   "cell_type": "code",
   "execution_count": null,
   "id": "344107a9",
   "metadata": {},
   "outputs": [],
   "source": [
    "json_request = build_json_request(width_px, height_px, datetime(2025, 6, 1), datetime(2025, 6, 30), \"RGB\", geometry=geometry, crs=\"CRS84\")"
   ]
  },
  {
   "cell_type": "code",
   "execution_count": null,
   "id": "1867fb82",
   "metadata": {},
   "outputs": [],
   "source": [
    "bbox = [882101.9766596204, 6172801.910631929, 904101.9766596204, 6184801.910631929]\n",
    "\n",
    "width_x = (bbox[2] - bbox[0])/20\n",
    "width_y = (bbox[3] - bbox[1])/20\n",
    "\n",
    "json_request = build_json_request(width_x, width_y, datetime(2025, 6, 1), datetime(2025, 6, 30), \"RGB\", bbox=bbox)"
   ]
  },
  {
   "cell_type": "code",
   "execution_count": null,
   "id": "02275283",
   "metadata": {},
   "outputs": [],
   "source": [
    "# Set the request URL and headers\n",
    "url_request = \"https://sh.dataspace.copernicus.eu/api/v1/process\"\n",
    "headers_request = {\n",
    "    \"Authorization\": f\"Bearer {token['access_token']}\"\n",
    "}\n",
    "\n",
    "# Send the request\n",
    "response = oauth.post(url_request, headers=headers_request, json=json_request)"
   ]
  },
  {
   "cell_type": "code",
   "execution_count": null,
   "id": "dc34cd93",
   "metadata": {},
   "outputs": [],
   "source": [
    "# Check if request succeeded\n",
    "if response.status_code == 200:\n",
    "    # read the image as numpy array\n",
    "    image_arr = np.array(Image.open(io.BytesIO(response.content)))\n",
    "\n",
    "    # plot the image for visualization\n",
    "    plt.figure(figsize=(16,16))\n",
    "    plt.axis('off')\n",
    "    plt.tight_layout()\n",
    "    plt.imshow(image_arr)\n",
    "else:\n",
    "    print(f\"Error: {response.status_code}\")\n",
    "    print(response.text)"
   ]
  },
  {
   "cell_type": "code",
   "execution_count": null,
   "id": "4ec0015b",
   "metadata": {},
   "outputs": [],
   "source": [
    "# Read image bytes into numpy array\n",
    "with MemoryFile(response.content) as memfile:\n",
    "    with memfile.open() as dataset:\n",
    "        image = dataset.read()"
   ]
  },
  {
   "cell_type": "code",
   "execution_count": null,
   "id": "66b50f15",
   "metadata": {},
   "outputs": [],
   "source": [
    "res = np.load(\"data2025.npy\")"
   ]
  },
  {
   "cell_type": "code",
   "execution_count": null,
   "id": "5641375d",
   "metadata": {},
   "outputs": [],
   "source": [
    "from matplotlib.colors import Normalize\n",
    "from matplotlib.cm import ScalarMappable\n",
    "cmap = plt.cm.Greens\n",
    "\n",
    "# Map normalized NDVI values to RGBA colors\n",
    "norm = Normalize(vmin=-1, vmax=1)\n",
    "\n",
    "rgba_img = cmap(norm(res[0, 8, 4500:4505, 3345:3350]))\n",
    "# Display the image\n",
    "fig, ax = plt.subplots()\n",
    "fig.set_size_inches(15, 15)\n",
    "im = ax.imshow(rgba_img)\n",
    "cbar = fig.colorbar(ScalarMappable(norm=norm, cmap=cmap), ax=ax, label='NDVI')\n",
    "\n",
    "ax.axis('off')\n",
    "plt.show()\n"
   ]
  },
  {
   "cell_type": "code",
   "execution_count": null,
   "id": "c6198e1f",
   "metadata": {},
   "outputs": [],
   "source": [
    "res[0, :, 4504:4505, 3346:3347]"
   ]
  },
  {
   "cell_type": "code",
   "execution_count": null,
   "id": "b8ff8a63",
   "metadata": {},
   "outputs": [],
   "source": [
    "import numpy as np\n",
    "import rasterio\n",
    "from rasterio.transform import from_origin\n",
    "\n",
    "ndvi = res[0, 8, 4400:5000, 2250:3350]\n",
    "\n",
    "# Define spatial info for your array\n",
    "xmin, ymin, xmax, ymax = (882101.9766596204, 6172801.910631929, 904101.9766596204, 6184801.910631929)  # bounds in your CRS\n",
    "pixel_size = 20  # 20 m per pixel\n",
    "transform = from_origin(xmin, ymax, pixel_size, pixel_size)  # top-left origin\n",
    "\n",
    "# Save as GeoTIFF\n",
    "with rasterio.open(\n",
    "    \"ndvi.tif\",\n",
    "    \"w\",\n",
    "    driver=\"GTiff\",\n",
    "    height=ndvi.shape[0],\n",
    "    width=ndvi.shape[1],\n",
    "    count=1,\n",
    "    dtype=ndvi.dtype,\n",
    "    crs=\"EPSG:3857\",  # adjust to your CRS\n",
    "    transform=transform,\n",
    ") as dst:\n",
    "    dst.write(ndvi, 1)"
   ]
  },
  {
   "cell_type": "code",
   "execution_count": null,
   "id": "09e1aa4f",
   "metadata": {},
   "outputs": [],
   "source": []
  }
 ],
 "metadata": {
  "kernelspec": {
   "display_name": "Python 3 (ipykernel)",
   "language": "python",
   "name": "python3"
  },
  "language_info": {
   "codemirror_mode": {
    "name": "ipython",
    "version": 3
   },
   "file_extension": ".py",
   "mimetype": "text/x-python",
   "name": "python",
   "nbconvert_exporter": "python",
   "pygments_lexer": "ipython3",
   "version": "3.13.5"
  }
 },
 "nbformat": 4,
 "nbformat_minor": 5
}
